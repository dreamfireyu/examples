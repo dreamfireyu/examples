{
 "cells": [
  {
   "cell_type": "markdown",
   "id": "d7af8e2b",
   "metadata": {},
   "source": [
    "# Fine-Tune with MNIST\n",
    "\n",
    "Follow steps below to get started with a jupyter notebook for how to train a Towhee operator. This example fine-tunes a pretrained model (eg. resnet-18) with the MNIST dataset.\n",
    "\n",
    "## 1. Download Operator\n",
    "\n",
    "Download operator files together with the jupyter notebook."
   ]
  },
  {
   "cell_type": "code",
   "execution_count": null,
   "id": "ac338f30",
   "metadata": {},
   "outputs": [],
   "source": [
    "! git clone https://towhee.io/towhee/resnet-image-embedding.git\n",
    "! cd resnet-image-embedding\n",
    "! ls"
   ]
  },
  {
   "cell_type": "markdown",
   "id": "fbfe3cab",
   "metadata": {},
   "source": [
    "Then run Python scripts in following steps to train and test a Towhee operator.\n",
    "\n",
    "## 2. Setup Operator\n",
    "\n",
    "Create operator and load model by name."
   ]
  },
  {
   "cell_type": "code",
   "execution_count": null,
   "id": "d20e8124",
   "metadata": {},
   "outputs": [],
   "source": [
    "# import sys\n",
    "# sys.path.append('..')\n",
    "\n",
    "from resnet_image_embedding import ResnetImageEmbedding\n",
    "\n",
    "# Set num_classes=10 for MNIST dataset\n",
    "op = ResnetImageEmbedding('resnet18', num_classes=10)"
   ]
  },
  {
   "cell_type": "markdown",
   "id": "15b66766",
   "metadata": {},
   "source": [
    "## 3. Configure Trainer:\n",
    "\n",
    "Modify training configurations on top of default values."
   ]
  },
  {
   "cell_type": "code",
   "execution_count": null,
   "id": "a5973ea8",
   "metadata": {},
   "outputs": [],
   "source": [
    "from towhee.trainer.training_config import TrainingConfig\n",
    "\n",
    "training_config = TrainingConfig(\n",
    "    batch_size=64,\n",
    "    epoch_num=2,\n",
    "    output_dir='mnist_output'\n",
    ")"
   ]
  },
  {
   "cell_type": "markdown",
   "id": "48d2af76",
   "metadata": {},
   "source": [
    "## 4. Prepare Dataset\n",
    "\n",
    "The example here uses the MNIST dataset for both training and evaluation."
   ]
  },
  {
   "cell_type": "code",
   "execution_count": null,
   "id": "3a67ff47",
   "metadata": {},
   "outputs": [],
   "source": [
    "from torchvision import transforms\n",
    "from towhee import dataset\n",
    "from torchvision.transforms import Lambda\n",
    "mean = 0.1307\n",
    "std = 0.3081\n",
    "mnist_transform = transforms.Compose([transforms.ToTensor(),\n",
    "                                          Lambda(lambda x: x.repeat(3, 1, 1)),\n",
    "                                          transforms.Normalize(mean=[mean] * 3, std=[std] * 3)])\n",
    "train_data = dataset('mnist', transform=mnist_transform, download=True, root='data', train=True)\n",
    "eval_data = dataset('mnist', transform=mnist_transform, download=True, root='data', train=False)"
   ]
  },
  {
   "cell_type": "markdown",
   "id": "1f10b589",
   "metadata": {},
   "source": [
    "# 5. Start Training\n",
    "\n",
    "Start to train mnist, it will take about 30-100 minutes on a cpu machine. If you train on a gpu machine, it will be much faster."
   ]
  },
  {
   "cell_type": "code",
   "execution_count": null,
   "id": "14e90632",
   "metadata": {},
   "outputs": [],
   "source": [
    "op.train(training_config, train_dataset=train_data, eval_dataset=eval_data)"
   ]
  },
  {
   "cell_type": "markdown",
   "id": "7a9429d2",
   "metadata": {},
   "source": [
    "Observing epoch progress bars, if loss decreases while metric increases, then you are training the model properly.\n",
    "\n",
    "\n",
    "# 6. Predict after Training\n",
    "\n",
    "After training, you can make new predictions with the operator. Comparing new predicted results with actual labels, you can evaluate the fine-tuned model with accuracy."
   ]
  },
  {
   "cell_type": "code",
   "execution_count": null,
   "id": "5b16a9b6",
   "metadata": {},
   "outputs": [],
   "source": [
    "import matplotlib.pyplot as plt\n",
    "import torch\n",
    "import random\n",
    "\n",
    "# get random picture and predict it.\n",
    "img_index = random.randint(0, len(eval_data))\n",
    "img = eval_data.dataset[img_index][0]\n",
    "img = img.numpy().transpose(1, 2, 0)  # (C, H, W) -> (H, W, C)\n",
    "pil_img = img * std + mean\n",
    "plt.imshow(pil_img)\n",
    "plt.show()\n",
    "test_img = eval_data.dataset[img_index][0].unsqueeze(0).to(op.trainer.configs.device)\n",
    "out = op.trainer.predict(test_img)\n",
    "predict_num = torch.argmax(torch.softmax(out, dim=-1)).item()\n",
    "print('this picture is number {}'.format(predict_num))"
   ]
  }
 ],
 "metadata": {
  "kernelspec": {
   "display_name": "Python 3 (ipykernel)",
   "language": "python",
   "name": "python3"
  },
  "language_info": {
   "codemirror_mode": {
    "name": "ipython",
    "version": 3
   },
   "file_extension": ".py",
   "mimetype": "text/x-python",
   "name": "python",
   "nbconvert_exporter": "python",
   "pygments_lexer": "ipython3",
   "version": "3.8.12"
  }
 },
 "nbformat": 4,
 "nbformat_minor": 5
}
