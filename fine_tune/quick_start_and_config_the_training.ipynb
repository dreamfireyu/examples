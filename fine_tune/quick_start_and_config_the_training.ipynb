{
 "cells": [
  {
   "cell_type": "markdown",
   "id": "7eec9880",
   "metadata": {},
   "source": [
    "# Quick Start and Config the Training\n",
    "\n",
    "\n",
    "## Quick Start\n",
    "\n",
    "### 1. Download Operator"
   ]
  },
  {
   "cell_type": "code",
   "execution_count": null,
   "id": "981143cc",
   "metadata": {},
   "outputs": [],
   "source": [
    "! git clone https://towhee.io/towhee/resnet-image-embedding.git\n",
    "! cd resnet-image-embedding\n",
    "! ls"
   ]
  },
  {
   "cell_type": "markdown",
   "id": "664a3612",
   "metadata": {},
   "source": [
    "Then run Python scripts in following steps to train and test a Towhee operator.\n",
    "\n",
    "### 2. Setup Operator\n",
    "\n",
    "Create operator and load model by name."
   ]
  },
  {
   "cell_type": "code",
   "execution_count": null,
   "id": "ca40d66e",
   "metadata": {},
   "outputs": [],
   "source": [
    "from resnet_image_embedding import ResnetImageEmbedding\n",
    "from towhee.trainer.training_config import TrainingConfig\n",
    "from torchvision import transforms\n",
    "from towhee import dataset\n",
    "op = ResnetImageEmbedding('resnet18', num_classes=10)"
   ]
  },
  {
   "cell_type": "markdown",
   "id": "d48c951c",
   "metadata": {},
   "source": [
    "### 3. Configure Trainer:\n",
    "\n",
    "Modify training configurations on top of default values."
   ]
  },
  {
   "cell_type": "code",
   "execution_count": null,
   "id": "852c0ee8",
   "metadata": {},
   "outputs": [],
   "source": [
    "# build a training config:\n",
    "training_config = TrainingConfig(\n",
    "    batch_size=2,\n",
    "    epoch_num=2,\n",
    "    output_dir='quick_start_output'"
   ]
  },
  {
   "cell_type": "markdown",
   "id": "98b3449a",
   "metadata": {},
   "source": [
    "### 4. Prepare Dataset\n",
    "\n",
    "The example here uses a fake dataset for both training and evaluation."
   ]
  },
  {
   "cell_type": "code",
   "execution_count": null,
   "id": "fc14688f",
   "metadata": {},
   "outputs": [],
   "source": [
    "# prepare the dataset\n",
    "fake_transform = transforms.Compose([transforms.ToTensor()])\n",
    "train_data = dataset('fake', size=20, transform=fake_transform)\n",
    "eval_data = dataset('fake', size=10, transform=fake_transform)"
   ]
  },
  {
   "cell_type": "markdown",
   "id": "1327ca2c",
   "metadata": {},
   "source": [
    "### 5. Start Training\n",
    "\n",
    "Now everything is ready, start training."
   ]
  },
  {
   "cell_type": "code",
   "execution_count": null,
   "id": "c14e98ac",
   "metadata": {},
   "outputs": [],
   "source": [
    "op.train(\n",
    "    training_config,\n",
    "    train_dataset=train_data,\n",
    "    eval_dataset=eval_data\n",
    ")"
   ]
  },
  {
   "cell_type": "markdown",
   "id": "17e2db80",
   "metadata": {},
   "source": [
    "With a successful training, you will see progress bar below and a `quick_start_output` folder containing training results."
   ]
  },
  {
   "cell_type": "markdown",
   "id": "7927ede5",
   "metadata": {},
   "source": [
    "## Set Training\n",
    "\n",
    "### 1. Default Configs\n",
    "You can dump default training configs or write customized training configs to a yaml file."
   ]
  },
  {
   "cell_type": "code",
   "execution_count": null,
   "id": "ce4ffa40",
   "metadata": {},
   "outputs": [],
   "source": [
    "from towhee.trainer.training_config import dump_default_yaml, TrainingConfig\n",
    "default_config_file = 'default_training_configs.yaml'\n",
    "dump_default_yaml(default_config_file)"
   ]
  },
  {
   "cell_type": "markdown",
   "id": "f4b6e95b",
   "metadata": {},
   "source": [
    "You can open default_training_configs.yaml, and you can get the default config yaml structure like this:\n",
    "```yaml\n",
    "train:\n",
    "    output_dir: ./output_dir\n",
    "    overwrite_output_dir: true\n",
    "    eval_strategy: epoch\n",
    "    eval_steps:\n",
    "    batch_size: 8\n",
    "    val_batch_size: -1\n",
    "    seed: 42\n",
    "    epoch_num: 2\n",
    "    dataloader_pin_memory: true\n",
    "    dataloader_drop_last: true\n",
    "    dataloader_num_workers: 0\n",
    "    load_best_model_at_end: false\n",
    "    freeze_bn: false\n",
    "device:\n",
    "    device_str:\n",
    "    sync_bn: false\n",
    "logging:\n",
    "    print_steps:\n",
    "learning:\n",
    "    lr: 5e-05\n",
    "    loss: CrossEntropyLoss\n",
    "    optimizer: Adam\n",
    "    lr_scheduler_type: linear\n",
    "    warmup_ratio: 0.0\n",
    "    warmup_steps: 0\n",
    "callback:\n",
    "    early_stopping:\n",
    "        monitor: eval_epoch_metric\n",
    "        patience: 4\n",
    "        mode: max\n",
    "    model_checkpoint:\n",
    "        every_n_epoch: 1\n",
    "    tensorboard:\n",
    "        log_dir:\n",
    "        comment: ''\n",
    "metrics:\n",
    "    metric: Accuracy\n",
    "```\n",
    "So the yaml file is corresponding to the TrainingConfig instance."
   ]
  },
  {
   "cell_type": "code",
   "execution_count": null,
   "id": "c5117a85",
   "metadata": {},
   "outputs": [],
   "source": [
    "training_configs = TrainingConfig().load_from_yaml(default_config_file)\n",
    "print(training_configs)\n",
    "training_configs.output_dir = 'my_test_output'\n",
    "training_configs.save_to_yaml('my_test_config.yaml')"
   ]
  },
  {
   "cell_type": "markdown",
   "id": "e46421f4",
   "metadata": {},
   "source": [
    "Open my_test_config.yaml, and you will find `output_dir` is modified:\n",
    "```yaml\n",
    "train:\n",
    "    output_dir: my_test_output\n",
    "```\n",
    "So there are 2 ways to set up the configs. One is using by class `TrainingConfig`, another is to overwrite the yaml file.\n",
    "\n",
    "### 2.Setting by TrainingConfig\n",
    "It's easy to set config using the TrainingConfig class. Just set the fields in TrainingConfig instance.\n",
    "You can get each config field introduction easily by `get_config_help()`."
   ]
  },
  {
   "cell_type": "code",
   "execution_count": null,
   "id": "d8caa541",
   "metadata": {},
   "outputs": [],
   "source": [
    "from towhee.trainer.training_config import get_config_help\n",
    "help_dict = get_config_help() # get config field introductions."
   ]
  },
  {
   "cell_type": "markdown",
   "id": "0c3f6f65",
   "metadata": {},
   "source": [
    "You can construct config by the construct function, or then modify you custom value."
   ]
  },
  {
   "cell_type": "code",
   "execution_count": null,
   "id": "50bde462",
   "metadata": {},
   "outputs": [],
   "source": [
    "training_configs = TrainingConfig(\n",
    "    xxx='some_value_xxx',\n",
    "    yyy='some_value_yyy'\n",
    ")\n",
    "# or\n",
    "training_configs.aaa='some_value_aaa'\n",
    "training_configs.bbb='some_value_bbb'"
   ]
  },
  {
   "cell_type": "markdown",
   "id": "7e075f1a",
   "metadata": {},
   "source": [
    "### 3.Setting by yaml file\n",
    "\n",
    "Your yaml file can be briefly with just some lines. You need not write the whole setting.\n",
    "```yaml\n",
    "train:\n",
    "    output_dir: my_another_output\n",
    "```\n",
    "A yaml like this also works. Default values will be overwritten if not written.\n",
    "There are some point you should pay attention.\n",
    "- If a value is None in python, no value is required after the colon.\n",
    "- If the value is `True`/`False` in python, it's `true`/`false` in yaml.\n",
    "- If the field is `str` instance in python, no quotation marks required.\n",
    "- If the field value is `dict` instance in python, start another line after the colon, each line after that is each key-value pair info.\n",
    "```yaml\n",
    "    early_stopping:\n",
    "        monitor: eval_epoch_metric\n",
    "        patience: 4\n",
    "        mode: max\n",
    "```\n",
    "equals\n",
    "```python\n",
    "early_stopping = {\n",
    "    'monitor': 'eval_epoch_metric',\n",
    "    'patience': 4,\n",
    "    'mode': 'max'\n",
    "    }\n",
    "```\n",
    "in python."
   ]
  },
  {
   "cell_type": "code",
   "execution_count": null,
   "id": "bdebdbe3",
   "metadata": {},
   "outputs": [],
   "source": []
  }
 ],
 "metadata": {
  "kernelspec": {
   "display_name": "Python 3 (ipykernel)",
   "language": "python",
   "name": "python3"
  },
  "language_info": {
   "codemirror_mode": {
    "name": "ipython",
    "version": 3
   },
   "file_extension": ".py",
   "mimetype": "text/x-python",
   "name": "python",
   "nbconvert_exporter": "python",
   "pygments_lexer": "ipython3",
   "version": "3.8.12"
  }
 },
 "nbformat": 4,
 "nbformat_minor": 5
}
