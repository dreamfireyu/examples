{
 "cells": [
  {
   "cell_type": "markdown",
   "id": "faf13633",
   "metadata": {},
   "source": [
    "# Train a Bird Classification Model\n",
    "\n",
    "Follow steps below to get started with a jupyter notebook for how to train a Towhee operator. This example fine-tunes a pretrained ResNet model (eg. resnet-34 pretrained by ImageNet) with a bird dataset.\n",
    "\n",
    "## 1. Download Operator\n",
    "\n",
    "Download operator files together with the jupyter notebook."
   ]
  },
  {
   "cell_type": "code",
   "execution_count": null,
   "id": "a373190c",
   "metadata": {},
   "outputs": [],
   "source": [
    "! git clone https://towhee.io/towhee/resnet-image-embedding.git\n",
    "! cd resnet-image-embedding\n",
    "! ls"
   ]
  },
  {
   "cell_type": "markdown",
   "id": "c6f95baa",
   "metadata": {},
   "source": [
    "Then run Python scripts in following steps to train and test a Towhee operator.\n",
    "\n",
    "## 2. Setup Operator\n",
    "\n",
    "Create operator and load model by name."
   ]
  },
  {
   "cell_type": "code",
   "execution_count": null,
   "id": "b5f01835",
   "metadata": {},
   "outputs": [],
   "source": [
    "# import sys\n",
    "# sys.path.append('..')\n",
    "from resnet_image_embedding import ResnetImageEmbedding\n",
    "\n",
    "# Set num_classes=400 for ResNet34 model (400 classes of birds in total)\n",
    "op = ResnetImageEmbedding('resnet34', num_classes=400)"
   ]
  },
  {
   "cell_type": "markdown",
   "id": "f39635cf",
   "metadata": {},
   "source": [
    "## 3. Configure Trainer:\n",
    "\n",
    "Modify training configurations on top of default values."
   ]
  },
  {
   "cell_type": "code",
   "execution_count": null,
   "id": "e8c27d00",
   "metadata": {},
   "outputs": [],
   "source": [
    "from towhee.trainer.training_config import TrainingConfig\n",
    "\n",
    "training_config = TrainingConfig()\n",
    "training_config.batch_size = 32\n",
    "training_config.epoch_num = 2\n",
    "training_config.output_dir = 'bird_output'"
   ]
  },
  {
   "cell_type": "markdown",
   "id": "76d5a808",
   "metadata": {},
   "source": [
    "## 4. Prepare Dataset\n",
    "\n",
    "Download [BIRDS 400](https://www.kaggle.com/gpiosenka/100-bird-species) from Kaggle Dataset. And then create the dataset with local path and transform."
   ]
  },
  {
   "cell_type": "code",
   "execution_count": null,
   "id": "bcd81eaa",
   "metadata": {},
   "outputs": [],
   "source": [
    "import os\n",
    "from torchvision import transforms\n",
    "from torchvision.datasets import ImageFolder\n",
    "\n",
    "bird_400_path = '/home/zhangchen/zhangchen_workspace/dataset/bird_400'\n",
    "# bird_400_path = '/path/to/your/dataset/bird_400/'\n",
    "\n",
    "std = (0.229, 0.224, 0.229)\n",
    "mean = (0.485, 0.456, 0.406)\n",
    "transform = transforms.Compose([transforms.ToTensor(),\n",
    "                                transforms.Normalize(mean=mean, std=std),\n",
    "                                transforms.RandomHorizontalFlip(p=0.5)\n",
    "                               ])\n",
    "train_data = ImageFolder(os.path.join(bird_400_path, 'train'), transform=transform)\n",
    "eval_data = ImageFolder(os.path.join(bird_400_path, 'valid'), transform=transform)"
   ]
  },
  {
   "cell_type": "markdown",
   "id": "9db1a4bd",
   "metadata": {},
   "source": [
    "## 5. Start Training\n",
    "\n",
    "Now start training the operator with Bird-400 dataset."
   ]
  },
  {
   "cell_type": "code",
   "execution_count": null,
   "id": "382ba60a",
   "metadata": {},
   "outputs": [],
   "source": [
    "op.train(training_config, train_dataset=train_data, eval_dataset=eval_data)"
   ]
  },
  {
   "cell_type": "markdown",
   "id": "da324bc8",
   "metadata": {},
   "source": [
    "## 6. Predict\n",
    "\n",
    "With the fine-tuned model, you can then use the operator to classify a bird picture."
   ]
  },
  {
   "cell_type": "code",
   "execution_count": null,
   "id": "6f261ea4",
   "metadata": {},
   "outputs": [],
   "source": [
    "from towhee.trainer.utils.plot_utils import predict_image_classification\n",
    "import random\n",
    "import matplotlib.pyplot as plt\n",
    "\n",
    "img_index = random.randint(0, len(eval_data))\n",
    "img = eval_data[img_index][0]\n",
    "img_np = img.numpy().transpose(1, 2, 0)  # (C, H, W) -> (H, W, C)\n",
    "img_np = img_np * std + mean\n",
    "plt.axis('off')\n",
    "plt.imshow(img_np)\n",
    "plt.show()\n",
    "img_tensor = eval_data[img_index][0].unsqueeze(0).to(op.trainer.configs.device)\n",
    "\n",
    "prediction_score, pred_label_idx = predict_image_classification(op.model, img_tensor)\n",
    "print('It is {}.'.format(eval_data.classes[pred_label_idx].lower()))\n",
    "print('probability = {}'.format(prediction_score))"
   ]
  },
  {
   "cell_type": "markdown",
   "id": "7f1ce5d4",
   "metadata": {},
   "source": [
    "## 7.Interpret model\n",
    "\n",
    "If you try to understand why this image will be classified as a mandrin duck, you can use `interpret_image_classification` utils in towhee, which using [captum](https://captum.ai/) as backend. So you must install it first using `pip install captum` or `conda install captum -c pytorch`."
   ]
  },
  {
   "cell_type": "code",
   "execution_count": null,
   "id": "9a944012",
   "metadata": {},
   "outputs": [],
   "source": [
    "from PIL import Image\n",
    "import numpy as np\n",
    "from towhee.trainer.utils.plot_utils import interpret_image_classification\n",
    "\n",
    "pil_img = Image.fromarray(np.uint8(img_np * 255))\n",
    "val_transform = transforms.Compose([transforms.ToTensor(),\n",
    "                                    transforms.Normalize(mean=mean, std=std),\n",
    "                                    ])\n",
    "interpret_image_classification(op.model.to('cpu'), pil_img, val_transform, \"Occlusion\")\n",
    "interpret_image_classification(op.model.to('cpu'), pil_img, val_transform, \"GradientShap\")\n",
    "interpret_image_classification(op.model.to('cpu'), pil_img, val_transform, \"Saliency\")"
   ]
  },
  {
   "cell_type": "code",
   "execution_count": null,
   "id": "dc9e30da",
   "metadata": {},
   "outputs": [],
   "source": []
  }
 ],
 "metadata": {
  "kernelspec": {
   "display_name": "Python 3 (ipykernel)",
   "language": "python",
   "name": "python3"
  },
  "language_info": {
   "codemirror_mode": {
    "name": "ipython",
    "version": 3
   },
   "file_extension": ".py",
   "mimetype": "text/x-python",
   "name": "python",
   "nbconvert_exporter": "python",
   "pygments_lexer": "ipython3",
   "version": "3.8.12"
  }
 },
 "nbformat": 4,
 "nbformat_minor": 5
}
